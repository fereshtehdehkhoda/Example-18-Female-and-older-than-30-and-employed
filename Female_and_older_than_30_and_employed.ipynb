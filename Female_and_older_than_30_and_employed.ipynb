{
  "cells": [
    {
      "cell_type": "markdown",
      "metadata": {
        "id": "view-in-github",
        "colab_type": "text"
      },
      "source": [
        "<a href=\"https://colab.research.google.com/github/fereshtehdehkhoda/Example-18-Female-and-older-than-30-and-employed/blob/main/Female_and_older_than_30_and_employed.ipynb\" target=\"_parent\"><img src=\"https://colab.research.google.com/assets/colab-badge.svg\" alt=\"Open In Colab\"/></a>"
      ]
    },
    {
      "cell_type": "markdown",
      "id": "9e2747b4-e340-494c-8f10-ae6b9e00643e",
      "metadata": {
        "id": "9e2747b4-e340-494c-8f10-ae6b9e00643e"
      },
      "source": [
        "# Female and older than 30 and employed"
      ]
    },
    {
      "cell_type": "code",
      "execution_count": null,
      "id": "2bfcdfd8-0ebf-4f1e-8ad2-531c325f671d",
      "metadata": {
        "id": "2bfcdfd8-0ebf-4f1e-8ad2-531c325f671d"
      },
      "outputs": [],
      "source": [
        "#چند درصد مشتریان زن بالای 30 سال، شاغل هستند؟"
      ]
    },
    {
      "cell_type": "code",
      "execution_count": null,
      "id": "c3358473-ab25-474b-9904-d1fbeeeee21f",
      "metadata": {
        "id": "c3358473-ab25-474b-9904-d1fbeeeee21f"
      },
      "outputs": [],
      "source": [
        "import pandas as pd\n",
        "import numpy as np"
      ]
    },
    {
      "cell_type": "code",
      "execution_count": null,
      "id": "442e7e3d-4213-48eb-87b1-1adce5309766",
      "metadata": {
        "id": "442e7e3d-4213-48eb-87b1-1adce5309766"
      },
      "outputs": [],
      "source": [
        "data=pd.read_csv('sample_data.csv')"
      ]
    },
    {
      "cell_type": "code",
      "execution_count": null,
      "id": "1439669e-3be6-40fe-bcde-d63a2c2128fd",
      "metadata": {
        "id": "1439669e-3be6-40fe-bcde-d63a2c2128fd",
        "outputId": "b2a3b36d-d020-4adc-b9b0-9c074eff6545"
      },
      "outputs": [
        {
          "name": "stdout",
          "output_type": "stream",
          "text": [
            "<class 'pandas.core.frame.DataFrame'>\n",
            "RangeIndex: 500 entries, 0 to 499\n",
            "Data columns (total 11 columns):\n",
            " #   Column            Non-Null Count  Dtype  \n",
            "---  ------            --------------  -----  \n",
            " 0   id                500 non-null    int64  \n",
            " 1   sex               500 non-null    object \n",
            " 2   is_employed       435 non-null    object \n",
            " 3   income            493 non-null    float64\n",
            " 4   marital_status    500 non-null    object \n",
            " 5   health_insurance  500 non-null    bool   \n",
            " 6   housing_type      466 non-null    object \n",
            " 7   recent_move       466 non-null    object \n",
            " 8   num_vehicles      466 non-null    float64\n",
            " 9   age               500 non-null    float64\n",
            " 10  state_of_res      500 non-null    object \n",
            "dtypes: bool(1), float64(3), int64(1), object(6)\n",
            "memory usage: 39.7+ KB\n"
          ]
        }
      ],
      "source": [
        "data.info()"
      ]
    },
    {
      "cell_type": "code",
      "execution_count": null,
      "id": "697846d5-6658-4a12-a174-592fc1ed7b57",
      "metadata": {
        "id": "697846d5-6658-4a12-a174-592fc1ed7b57",
        "outputId": "c663e72b-73bd-450d-9b63-ab9fe0462b76"
      },
      "outputs": [
        {
          "data": {
            "text/plain": [
              "73.80952380952381"
            ]
          },
          "execution_count": 17,
          "metadata": {},
          "output_type": "execute_result"
        }
      ],
      "source": [
        "np.sum((data['sex']=='F') & (data['age']>30) & (data['is_employed']==True))/np.sum((data['is_employed'].notnull()) & (data['sex']=='F') & (data['age']>30))*100"
      ]
    }
  ],
  "metadata": {
    "kernelspec": {
      "display_name": "Python 3 (ipykernel)",
      "language": "python",
      "name": "python3"
    },
    "language_info": {
      "codemirror_mode": {
        "name": "ipython",
        "version": 3
      },
      "file_extension": ".py",
      "mimetype": "text/x-python",
      "name": "python",
      "nbconvert_exporter": "python",
      "pygments_lexer": "ipython3",
      "version": "3.12.4"
    },
    "colab": {
      "provenance": [],
      "include_colab_link": true
    }
  },
  "nbformat": 4,
  "nbformat_minor": 5
}